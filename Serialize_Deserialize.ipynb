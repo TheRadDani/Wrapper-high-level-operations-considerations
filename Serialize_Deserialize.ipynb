{
  "nbformat": 4,
  "nbformat_minor": 0,
  "metadata": {
    "colab": {
      "provenance": [],
      "authorship_tag": "ABX9TyMR8vc39jN8O4HcXLo/717E",
      "include_colab_link": true
    },
    "kernelspec": {
      "name": "python3",
      "display_name": "Python 3"
    },
    "language_info": {
      "name": "python"
    }
  },
  "cells": [
    {
      "cell_type": "markdown",
      "metadata": {
        "id": "view-in-github",
        "colab_type": "text"
      },
      "source": [
        "<a href=\"https://colab.research.google.com/github/TheRadDani/Wrapper-high-level-operations-considerations/blob/main/Serialize_Deserialize.ipynb\" target=\"_parent\"><img src=\"https://colab.research.google.com/assets/colab-badge.svg\" alt=\"Open In Colab\"/></a>"
      ]
    },
    {
      "cell_type": "code",
      "source": [
        "import tensorflow as tf\n",
        "from tensorflow.keras.layers import Bidirectional, LSTM\n",
        "\n",
        "@tf.keras.utils.register_keras_serializable()\n",
        "class Custom_Layer(tf.keras.layers.Layer):\n",
        "    def __init__(self, units=32, **kwargs):\n",
        "        super(Custom_Layer, self).__init__(**kwargs)\n",
        "        self.units = units\n",
        "\n",
        "    def build(self, input_shape):\n",
        "        self.w = self.add_weight(shape=(input_shape[-1], self.units),\n",
        "                                 initializer='glorot_uniform',\n",
        "                                 trainable=True)\n",
        "\n",
        "    def call(self, inputs):\n",
        "        return tf.matmul(inputs, self.w)"
      ],
      "metadata": {
        "id": "pTAjniHTKcFA"
      },
      "execution_count": 5,
      "outputs": []
    },
    {
      "cell_type": "code",
      "execution_count": 10,
      "metadata": {
        "colab": {
          "base_uri": "https://localhost:8080/"
        },
        "id": "fZlODl3hIJ11",
        "outputId": "55263bd2-252c-4d85-96e6-392a19f9ae87"
      },
      "outputs": [
        {
          "output_type": "stream",
          "name": "stderr",
          "text": [
            "WARNING:tensorflow:Compiled the loaded model, but the compiled metrics have yet to be built. `model.compile_metrics` will be empty until you train or evaluate the model.\n",
            "WARNING:tensorflow:No training configuration found in the save file, so the model was *not* compiled. Compile it manually.\n"
          ]
        }
      ],
      "source": [
        "import os\n",
        "\n",
        "model_path = 'my_model.h5'\n",
        "\n",
        "if os.path.exists(model_path):\n",
        "    os.remove(model_path)\n",
        "\n",
        "inputs = tf.keras.Input(shape=(10,))\n",
        "x = tf.keras.layers.Reshape((1, 10))(inputs) # reshape to (samples, 1, features)\n",
        "x = Bidirectional(LSTM(32))(x)\n",
        "x = Custom_Layer(16)(x)\n",
        "outputs = tf.keras.layers.Dense(1, activation='sigmoid')(x)\n",
        "model = tf.keras.Model(inputs=inputs, outputs=outputs)\n",
        "\n",
        "model.save(model_path)\n",
        "loaded_model = tf.keras.models.load_model(model_path)\n",
        "loaded_model.compile(loss='binary_crossentropy', optimizer='adam', metrics=['accuracy'])"
      ]
    },
    {
      "cell_type": "code",
      "source": [
        "loaded_model.summary()"
      ],
      "metadata": {
        "colab": {
          "base_uri": "https://localhost:8080/"
        },
        "id": "lwWtTnFEQXku",
        "outputId": "58ad998e-e899-491d-bb55-387f5526c7a0"
      },
      "execution_count": 11,
      "outputs": [
        {
          "output_type": "stream",
          "name": "stdout",
          "text": [
            "Model: \"model_2\"\n",
            "_________________________________________________________________\n",
            " Layer (type)                Output Shape              Param #   \n",
            "=================================================================\n",
            " input_6 (InputLayer)        [(None, 10)]              0         \n",
            "                                                                 \n",
            " reshape_4 (Reshape)         (None, 1, 10)             0         \n",
            "                                                                 \n",
            " bidirectional_5 (Bidirectio  (None, 64)               11008     \n",
            " nal)                                                            \n",
            "                                                                 \n",
            " custom__layer_2 (Custom_Lay  (None, 16)               1024      \n",
            " er)                                                             \n",
            "                                                                 \n",
            " dense_2 (Dense)             (None, 1)                 17        \n",
            "                                                                 \n",
            "=================================================================\n",
            "Total params: 12,049\n",
            "Trainable params: 12,049\n",
            "Non-trainable params: 0\n",
            "_________________________________________________________________\n"
          ]
        }
      ]
    },
    {
      "cell_type": "code",
      "source": [],
      "metadata": {
        "id": "i1MKQ_VKRKWU"
      },
      "execution_count": null,
      "outputs": []
    }
  ]
}